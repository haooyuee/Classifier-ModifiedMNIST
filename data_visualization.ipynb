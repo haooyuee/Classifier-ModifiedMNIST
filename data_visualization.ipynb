{
 "cells": [
  {
   "cell_type": "code",
   "execution_count": 1,
   "metadata": {},
   "outputs": [],
   "source": [
    "import numpy as np # linear algebra\n",
    "import pandas as pd # data processing, CSV file I/O (e.g. pd.read_csv)\n",
    "\n",
    "# Input data files are available in the read-only \"../input/\" directory\n",
    "# For example, running this (by clicking run or pressing Shift+Enter) will list all files under the input directory\n",
    "import os"
   ]
  },
  {
   "cell_type": "code",
   "execution_count": 2,
   "metadata": {},
   "outputs": [],
   "source": [
    "train_df = pd.read_csv('classification-of-mnist-digits/train.csv')\n",
    "train = train_df.to_numpy()\n",
    "test_df = pd.read_csv('classification-of-mnist-digits/test.csv')\n",
    "test = test_df.to_numpy()\n",
    "train_result_df = pd.read_csv('classification-of-mnist-digits/train_result.csv')\n",
    "train_result = train_result_df.to_numpy()"
   ]
  },
  {
   "cell_type": "code",
   "execution_count": 3,
   "metadata": {},
   "outputs": [
    {
     "name": "stdout",
     "output_type": "stream",
     "text": [
      "[[    0     5]\n",
      " [    1     4]\n",
      " [    2     5]\n",
      " ...\n",
      " [49997     1]\n",
      " [49998     7]\n",
      " [49999     9]]\n"
     ]
    }
   ],
   "source": [
    "print(train_result)"
   ]
  },
  {
   "cell_type": "code",
   "execution_count": 4,
   "metadata": {},
   "outputs": [],
   "source": [
    "import random\n",
    "import matplotlib.pyplot as plt"
   ]
  },
  {
   "cell_type": "markdown",
   "metadata": {},
   "source": [
    "data_visualization"
   ]
  },
  {
   "cell_type": "code",
   "execution_count": 9,
   "metadata": {},
   "outputs": [
    {
     "data": {
      "image/png": "[encoded data removed]",
      "text/plain": [
       "<Figure size 640x480 with 1 Axes>"
      ]
     },
     "metadata": {},
     "output_type": "display_data"
    },
    {
     "name": "stdout",
     "output_type": "stream",
     "text": [
      "[[ 0.0000000e+00  0.0000000e+00  0.0000000e+00 ...  1.3129055e-22\n",
      "  -1.4426925e-23 -7.4084080e-24]\n",
      " [ 0.0000000e+00  0.0000000e+00  0.0000000e+00 ...  1.2943565e-22\n",
      "  -3.3878187e-23  5.9016653e-23]\n",
      " [ 0.0000000e+00  0.0000000e+00  0.0000000e+00 ...  6.6122090e-22\n",
      "   5.3986725e-23  3.9338160e-22]\n",
      " ...\n",
      " [ 0.0000000e+00  0.0000000e+00  0.0000000e+00 ...  1.7726754e-24\n",
      "  -1.0738116e-25 -1.1906857e-26]\n",
      " [ 0.0000000e+00  0.0000000e+00  0.0000000e+00 ...  9.2311990e-25\n",
      "   1.3770111e-25  3.1802823e-26]\n",
      " [ 0.0000000e+00  0.0000000e+00  0.0000000e+00 ...  5.3190436e-25\n",
      "   1.7696217e-25  1.0441542e-25]]\n"
     ]
    }
   ],
   "source": [
    "r_idx = random.randint(0, train.shape[0])\n",
    "pixels = train[r_idx]\n",
    "pixels = np.delete(pixels, -1)\n",
    "pixels = pixels.reshape((28, 56))\n",
    "# Plot\n",
    "plt.title('Label is {label}'.format(label=train_result[r_idx][1]))\n",
    "plt.imshow(pixels)\n",
    "plt.show()\n",
    "print(pixels)"
   ]
  }
 ],
 "metadata": {
  "kernelspec": {
   "display_name": "Python 3.10.4 ('py6758')",
   "language": "python",
   "name": "python3"
  },
  "language_info": {
   "codemirror_mode": {
    "name": "ipython",
    "version": 3
   },
   "file_extension": ".py",
   "mimetype": "text/x-python",
   "name": "python",
   "nbconvert_exporter": "python",
   "pygments_lexer": "ipython3",
   "version": "3.10.4"
  },
  "orig_nbformat": 4,
  "vscode": {
   "interpreter": {
    "hash": "42a3d39a68e9055eb98cf71f38b73fb655ba02baac93420be27944e7247d2679"
   }
  }
 },
 "nbformat": 4,
 "nbformat_minor": 2
}
